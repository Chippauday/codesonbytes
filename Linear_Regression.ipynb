{
  "nbformat": 4,
  "nbformat_minor": 0,
  "metadata": {
    "colab": {
      "provenance": [],
      "authorship_tag": "ABX9TyPIfUGkGNsKLMmYdJbu8AfM",
      "include_colab_link": true
    },
    "kernelspec": {
      "name": "python3",
      "display_name": "Python 3"
    },
    "language_info": {
      "name": "python"
    }
  },
  "cells": [
    {
      "cell_type": "markdown",
      "metadata": {
        "id": "view-in-github",
        "colab_type": "text"
      },
      "source": [
        "<a href=\"https://colab.research.google.com/github/Chippauday/codesonbytes/blob/main/Linear_Regression.ipynb\" target=\"_parent\"><img src=\"https://colab.research.google.com/assets/colab-badge.svg\" alt=\"Open In Colab\"/></a>"
      ]
    },
    {
      "cell_type": "code",
      "execution_count": 1,
      "metadata": {
        "id": "155xi39l76ZR"
      },
      "outputs": [],
      "source": [
        "import pandas as pd\n",
        "import numpy as np\n",
        "import seaborn as sns\n",
        "import matplotlib.pyplot as plt\n",
        "from sklearn.linear_model import LinearRegression"
      ]
    },
    {
      "cell_type": "code",
      "source": [
        "train=pd.read_csv('train.csv')\n"
      ],
      "metadata": {
        "id": "srE-ucGC_j60"
      },
      "execution_count": 2,
      "outputs": []
    },
    {
      "cell_type": "code",
      "source": [
        "test=pd.read_csv('test.csv')"
      ],
      "metadata": {
        "id": "5hTkK0Pi_t8v"
      },
      "execution_count": 3,
      "outputs": []
    },
    {
      "cell_type": "code",
      "source": [
        "train.isna().sum()"
      ],
      "metadata": {
        "colab": {
          "base_uri": "https://localhost:8080/"
        },
        "id": "m7_pU-3c_0GX",
        "outputId": "c279d7c6-7c9f-4a35-c4f8-05f03a35912b"
      },
      "execution_count": 4,
      "outputs": [
        {
          "output_type": "execute_result",
          "data": {
            "text/plain": [
              "x    0\n",
              "y    1\n",
              "dtype: int64"
            ]
          },
          "metadata": {},
          "execution_count": 4
        }
      ]
    },
    {
      "cell_type": "code",
      "source": [
        "train.dropna(inplace=True)"
      ],
      "metadata": {
        "id": "QxcGbIgo_5l8"
      },
      "execution_count": 5,
      "outputs": []
    },
    {
      "cell_type": "code",
      "source": [
        "train.isna().sum()"
      ],
      "metadata": {
        "colab": {
          "base_uri": "https://localhost:8080/"
        },
        "id": "9LXOQrDv___F",
        "outputId": "acbd217f-5c98-4e37-d843-223849d5bcf3"
      },
      "execution_count": 6,
      "outputs": [
        {
          "output_type": "execute_result",
          "data": {
            "text/plain": [
              "x    0\n",
              "y    0\n",
              "dtype: int64"
            ]
          },
          "metadata": {},
          "execution_count": 6
        }
      ]
    },
    {
      "cell_type": "code",
      "source": [
        "test.isna().sum()"
      ],
      "metadata": {
        "colab": {
          "base_uri": "https://localhost:8080/"
        },
        "id": "RL13_uL9ADY0",
        "outputId": "f0c38f99-2b66-4d8d-bb42-5eac71b2a419"
      },
      "execution_count": 7,
      "outputs": [
        {
          "output_type": "execute_result",
          "data": {
            "text/plain": [
              "x    0\n",
              "y    0\n",
              "dtype: int64"
            ]
          },
          "metadata": {},
          "execution_count": 7
        }
      ]
    },
    {
      "cell_type": "code",
      "source": [
        "x_train=np.array(train['x']).reshape(-1,1)\n",
        "y_train=np.array(train['y']).reshape(-1,1)\n",
        "x_test=np.array(test['x']).reshape(-1,1)\n",
        "y_test=np.array(test['y']).reshape(-1,1)\n",
        "\n"
      ],
      "metadata": {
        "id": "yQb7L5t-AHfz"
      },
      "execution_count": 8,
      "outputs": []
    },
    {
      "cell_type": "code",
      "source": [
        "model=LinearRegression()"
      ],
      "metadata": {
        "id": "jAxVw0BfAoJg"
      },
      "execution_count": 9,
      "outputs": []
    },
    {
      "cell_type": "code",
      "source": [
        "model.fit(x_train,y_train)"
      ],
      "metadata": {
        "colab": {
          "base_uri": "https://localhost:8080/",
          "height": 75
        },
        "id": "lzvyceUeAtS5",
        "outputId": "187e3ebd-843d-4555-a67b-bbda4da0e6be"
      },
      "execution_count": 10,
      "outputs": [
        {
          "output_type": "execute_result",
          "data": {
            "text/plain": [
              "LinearRegression()"
            ],
            "text/html": [
              "<style>#sk-container-id-1 {color: black;background-color: white;}#sk-container-id-1 pre{padding: 0;}#sk-container-id-1 div.sk-toggleable {background-color: white;}#sk-container-id-1 label.sk-toggleable__label {cursor: pointer;display: block;width: 100%;margin-bottom: 0;padding: 0.3em;box-sizing: border-box;text-align: center;}#sk-container-id-1 label.sk-toggleable__label-arrow:before {content: \"▸\";float: left;margin-right: 0.25em;color: #696969;}#sk-container-id-1 label.sk-toggleable__label-arrow:hover:before {color: black;}#sk-container-id-1 div.sk-estimator:hover label.sk-toggleable__label-arrow:before {color: black;}#sk-container-id-1 div.sk-toggleable__content {max-height: 0;max-width: 0;overflow: hidden;text-align: left;background-color: #f0f8ff;}#sk-container-id-1 div.sk-toggleable__content pre {margin: 0.2em;color: black;border-radius: 0.25em;background-color: #f0f8ff;}#sk-container-id-1 input.sk-toggleable__control:checked~div.sk-toggleable__content {max-height: 200px;max-width: 100%;overflow: auto;}#sk-container-id-1 input.sk-toggleable__control:checked~label.sk-toggleable__label-arrow:before {content: \"▾\";}#sk-container-id-1 div.sk-estimator input.sk-toggleable__control:checked~label.sk-toggleable__label {background-color: #d4ebff;}#sk-container-id-1 div.sk-label input.sk-toggleable__control:checked~label.sk-toggleable__label {background-color: #d4ebff;}#sk-container-id-1 input.sk-hidden--visually {border: 0;clip: rect(1px 1px 1px 1px);clip: rect(1px, 1px, 1px, 1px);height: 1px;margin: -1px;overflow: hidden;padding: 0;position: absolute;width: 1px;}#sk-container-id-1 div.sk-estimator {font-family: monospace;background-color: #f0f8ff;border: 1px dotted black;border-radius: 0.25em;box-sizing: border-box;margin-bottom: 0.5em;}#sk-container-id-1 div.sk-estimator:hover {background-color: #d4ebff;}#sk-container-id-1 div.sk-parallel-item::after {content: \"\";width: 100%;border-bottom: 1px solid gray;flex-grow: 1;}#sk-container-id-1 div.sk-label:hover label.sk-toggleable__label {background-color: #d4ebff;}#sk-container-id-1 div.sk-serial::before {content: \"\";position: absolute;border-left: 1px solid gray;box-sizing: border-box;top: 0;bottom: 0;left: 50%;z-index: 0;}#sk-container-id-1 div.sk-serial {display: flex;flex-direction: column;align-items: center;background-color: white;padding-right: 0.2em;padding-left: 0.2em;position: relative;}#sk-container-id-1 div.sk-item {position: relative;z-index: 1;}#sk-container-id-1 div.sk-parallel {display: flex;align-items: stretch;justify-content: center;background-color: white;position: relative;}#sk-container-id-1 div.sk-item::before, #sk-container-id-1 div.sk-parallel-item::before {content: \"\";position: absolute;border-left: 1px solid gray;box-sizing: border-box;top: 0;bottom: 0;left: 50%;z-index: -1;}#sk-container-id-1 div.sk-parallel-item {display: flex;flex-direction: column;z-index: 1;position: relative;background-color: white;}#sk-container-id-1 div.sk-parallel-item:first-child::after {align-self: flex-end;width: 50%;}#sk-container-id-1 div.sk-parallel-item:last-child::after {align-self: flex-start;width: 50%;}#sk-container-id-1 div.sk-parallel-item:only-child::after {width: 0;}#sk-container-id-1 div.sk-dashed-wrapped {border: 1px dashed gray;margin: 0 0.4em 0.5em 0.4em;box-sizing: border-box;padding-bottom: 0.4em;background-color: white;}#sk-container-id-1 div.sk-label label {font-family: monospace;font-weight: bold;display: inline-block;line-height: 1.2em;}#sk-container-id-1 div.sk-label-container {text-align: center;}#sk-container-id-1 div.sk-container {/* jupyter's `normalize.less` sets `[hidden] { display: none; }` but bootstrap.min.css set `[hidden] { display: none !important; }` so we also need the `!important` here to be able to override the default hidden behavior on the sphinx rendered scikit-learn.org. See: https://github.com/scikit-learn/scikit-learn/issues/21755 */display: inline-block !important;position: relative;}#sk-container-id-1 div.sk-text-repr-fallback {display: none;}</style><div id=\"sk-container-id-1\" class=\"sk-top-container\"><div class=\"sk-text-repr-fallback\"><pre>LinearRegression()</pre><b>In a Jupyter environment, please rerun this cell to show the HTML representation or trust the notebook. <br />On GitHub, the HTML representation is unable to render, please try loading this page with nbviewer.org.</b></div><div class=\"sk-container\" hidden><div class=\"sk-item\"><div class=\"sk-estimator sk-toggleable\"><input class=\"sk-toggleable__control sk-hidden--visually\" id=\"sk-estimator-id-1\" type=\"checkbox\" checked><label for=\"sk-estimator-id-1\" class=\"sk-toggleable__label sk-toggleable__label-arrow\">LinearRegression</label><div class=\"sk-toggleable__content\"><pre>LinearRegression()</pre></div></div></div></div></div>"
            ]
          },
          "metadata": {},
          "execution_count": 10
        }
      ]
    },
    {
      "cell_type": "code",
      "source": [
        "predicted=model.predict(x_test)"
      ],
      "metadata": {
        "id": "Q459tenYAzT9"
      },
      "execution_count": 11,
      "outputs": []
    },
    {
      "cell_type": "code",
      "source": [
        "predicted"
      ],
      "metadata": {
        "colab": {
          "base_uri": "https://localhost:8080/"
        },
        "id": "ux7sv9KxA8fU",
        "outputId": "5a791316-beb0-46b3-acfa-b992caab4e6b"
      },
      "execution_count": 12,
      "outputs": [
        {
          "output_type": "execute_result",
          "data": {
            "text/plain": [
              "array([[76.94327594],\n",
              "       [20.90651855],\n",
              "       [21.90717494],\n",
              "       [19.90586217],\n",
              "       [35.91636428],\n",
              "       [14.90258026],\n",
              "       [61.93343021],\n",
              "       [94.95509081],\n",
              "       [19.90586217],\n",
              "       [ 4.89601644],\n",
              "       [ 3.89536006],\n",
              "       [18.90520579],\n",
              "       [95.95574719],\n",
              "       [61.93343021],\n",
              "       [35.91636428],\n",
              "       [14.90258026],\n",
              "       [64.93539936],\n",
              "       [13.90192388],\n",
              "       [86.94983976],\n",
              "       [68.93802488],\n",
              "       [88.95115252],\n",
              "       [50.92621001],\n",
              "       [88.95115252],\n",
              "       [26.91045685],\n",
              "       [96.95640358],\n",
              "       [57.93080468],\n",
              "       [78.9445887 ],\n",
              "       [20.90651855],\n",
              "       [92.95377805],\n",
              "       [26.91045685],\n",
              "       [98.95771634],\n",
              "       [30.91308237],\n",
              "       [32.91439514],\n",
              "       [79.94524508],\n",
              "       [27.91111323],\n",
              "       [46.92358448],\n",
              "       [52.92752277],\n",
              "       [68.93802488],\n",
              "       [27.91111323],\n",
              "       [32.91439514],\n",
              "       [90.95246528],\n",
              "       [70.93933765],\n",
              "       [49.92555363],\n",
              "       [75.94261956],\n",
              "       [ 3.89536006],\n",
              "       [36.91702066],\n",
              "       [69.93868127],\n",
              "       [67.9373685 ],\n",
              "       [39.91898981],\n",
              "       [34.9157079 ],\n",
              "       [93.95443443],\n",
              "       [87.95049614],\n",
              "       [51.92686639],\n",
              "       [30.91308237],\n",
              "       [58.93146107],\n",
              "       [-0.10726546],\n",
              "       [38.91833343],\n",
              "       [63.93474297],\n",
              "       [68.93802488],\n",
              "       [56.9301483 ],\n",
              "       [12.9012675 ],\n",
              "       [71.93999403],\n",
              "       [75.94261956],\n",
              "       [60.93277383],\n",
              "       [81.94655785],\n",
              "       [17.90454941],\n",
              "       [40.91964619],\n",
              "       [49.92555363],\n",
              "       [54.92883554],\n",
              "       [12.9012675 ],\n",
              "       [45.9229281 ],\n",
              "       [12.9012675 ],\n",
              "       [78.9445887 ],\n",
              "       [52.92752277],\n",
              "       [14.90258026],\n",
              "       [27.91111323],\n",
              "       [80.94590147],\n",
              "       [68.93802488],\n",
              "       [51.92686639],\n",
              "       [83.94787061],\n",
              "       [67.9373685 ],\n",
              "       [26.91045685],\n",
              "       [55.92949192],\n",
              "       [47.92424086],\n",
              "       [39.91898981],\n",
              "       [38.91833343],\n",
              "       [81.94655785],\n",
              "       [99.95837272],\n",
              "       [58.93146107],\n",
              "       [42.92095896],\n",
              "       [66.93671212],\n",
              "       [37.91767705],\n",
              "       [62.93408659],\n",
              "       [90.95246528],\n",
              "       [59.93211745],\n",
              "       [13.90192388],\n",
              "       [20.90651855],\n",
              "       [86.94983976],\n",
              "       [72.94065041],\n",
              "       [31.91373876],\n",
              "       [ 1.8940473 ],\n",
              "       [81.94655785],\n",
              "       [18.90520579],\n",
              "       [73.94130679],\n",
              "       [41.92030257],\n",
              "       [11.90061112],\n",
              "       [ 0.89339092],\n",
              "       [89.9518089 ],\n",
              "       [88.95115252],\n",
              "       [-0.10726546],\n",
              "       [40.91964619],\n",
              "       [15.90323665],\n",
              "       [93.95443443],\n",
              "       [96.95640358],\n",
              "       [65.93605574],\n",
              "       [23.9084877 ],\n",
              "       [16.90389303],\n",
              "       [89.9518089 ],\n",
              "       [12.9012675 ],\n",
              "       [-0.10726546],\n",
              "       [63.93474297],\n",
              "       [95.95574719],\n",
              "       [97.95705996],\n",
              "       [11.90061112],\n",
              "       [40.91964619],\n",
              "       [46.92358448],\n",
              "       [77.94393232],\n",
              "       [19.90586217],\n",
              "       [88.95115252],\n",
              "       [28.91176961],\n",
              "       [63.93474297],\n",
              "       [74.94196317],\n",
              "       [11.90061112],\n",
              "       [24.90914408],\n",
              "       [27.91111323],\n",
              "       [29.91242599],\n",
              "       [64.93539936],\n",
              "       [58.93146107],\n",
              "       [63.93474297],\n",
              "       [52.92752277],\n",
              "       [70.93933765],\n",
              "       [96.95640358],\n",
              "       [72.94065041],\n",
              "       [ 8.89864197],\n",
              "       [11.90061112],\n",
              "       [62.93408659],\n",
              "       [98.95771634],\n",
              "       [59.93211745],\n",
              "       [34.9157079 ],\n",
              "       [ 1.8940473 ],\n",
              "       [59.93211745],\n",
              "       [31.91373876],\n",
              "       [93.95443443],\n",
              "       [83.94787061],\n",
              "       [62.93408659],\n",
              "       [21.90717494],\n",
              "       [80.94590147],\n",
              "       [92.95377805],\n",
              "       [32.91439514],\n",
              "       [ 6.89732921],\n",
              "       [41.92030257],\n",
              "       [45.9229281 ],\n",
              "       [53.92817916],\n",
              "       [15.90323665],\n",
              "       [48.92489725],\n",
              "       [42.92095896],\n",
              "       [94.95509081],\n",
              "       [65.93605574],\n",
              "       [20.90651855],\n",
              "       [34.9157079 ],\n",
              "       [79.94524508],\n",
              "       [36.91702066],\n",
              "       [53.92817916],\n",
              "       [55.92949192],\n",
              "       [ 0.89339092],\n",
              "       [31.91373876],\n",
              "       [57.93080468],\n",
              "       [31.91373876],\n",
              "       [45.9229281 ],\n",
              "       [71.93999403],\n",
              "       [16.90389303],\n",
              "       [96.95640358],\n",
              "       [92.95377805],\n",
              "       [90.95246528],\n",
              "       [36.91702066],\n",
              "       [ 3.89536006],\n",
              "       [53.92817916],\n",
              "       [50.92621001],\n",
              "       [26.91045685],\n",
              "       [45.9229281 ],\n",
              "       [91.95312167],\n",
              "       [72.94065041],\n",
              "       [76.94327594],\n",
              "       [90.95246528],\n",
              "       [60.93277383],\n",
              "       [98.95771634],\n",
              "       [ 3.89536006],\n",
              "       [71.93999403],\n",
              "       [18.90520579],\n",
              "       [56.9301483 ],\n",
              "       [77.94393232],\n",
              "       [25.90980046],\n",
              "       [73.94130679],\n",
              "       [89.9518089 ],\n",
              "       [65.93605574],\n",
              "       [12.9012675 ],\n",
              "       [39.91898981],\n",
              "       [76.94327594],\n",
              "       [66.93671212],\n",
              "       [74.94196317],\n",
              "       [22.90783132],\n",
              "       [44.92227172],\n",
              "       [58.93146107],\n",
              "       [43.92161534],\n",
              "       [22.90783132],\n",
              "       [54.92883554],\n",
              "       [54.92883554],\n",
              "       [94.95509081],\n",
              "       [11.90061112],\n",
              "       [ 3.89536006],\n",
              "       [ 6.89732921],\n",
              "       [99.95837272],\n",
              "       [47.92424086],\n",
              "       [41.92030257],\n",
              "       [95.95574719],\n",
              "       [38.91833343],\n",
              "       [99.95837272],\n",
              "       [86.94983976],\n",
              "       [13.90192388],\n",
              "       [13.90192388],\n",
              "       [36.91702066],\n",
              "       [ 4.89601644],\n",
              "       [87.95049614],\n",
              "       [90.95246528],\n",
              "       [64.93539936],\n",
              "       [73.94130679],\n",
              "       [55.92949192],\n",
              "       [15.90323665],\n",
              "       [ 4.89601644],\n",
              "       [27.91111323],\n",
              "       [91.95312167],\n",
              "       [45.9229281 ],\n",
              "       [53.92817916],\n",
              "       [38.91833343],\n",
              "       [43.92161534],\n",
              "       [30.91308237],\n",
              "       [67.9373685 ],\n",
              "       [85.94918338],\n",
              "       [89.9518089 ],\n",
              "       [37.91767705],\n",
              "       [20.90651855],\n",
              "       [94.95509081],\n",
              "       [55.92949192],\n",
              "       [59.93211745],\n",
              "       [64.93539936],\n",
              "       [77.94393232],\n",
              "       [88.95115252],\n",
              "       [ 5.89667283],\n",
              "       [66.93671212],\n",
              "       [35.91636428],\n",
              "       [15.90323665],\n",
              "       [99.95837272],\n",
              "       [44.92227172],\n",
              "       [72.94065041],\n",
              "       [56.9301483 ],\n",
              "       [19.90586217],\n",
              "       [75.94261956],\n",
              "       [33.91505152],\n",
              "       [54.92883554],\n",
              "       [71.93999403],\n",
              "       [54.92883554],\n",
              "       [ 7.89798559],\n",
              "       [55.92949192],\n",
              "       [71.93999403],\n",
              "       [57.93080468],\n",
              "       [ 5.89667283],\n",
              "       [95.95574719],\n",
              "       [22.90783132],\n",
              "       [57.93080468],\n",
              "       [22.90783132],\n",
              "       [18.90520579],\n",
              "       [24.90914408],\n",
              "       [63.93474297],\n",
              "       [20.90651855],\n",
              "       [58.93146107],\n",
              "       [18.90520579],\n",
              "       [15.90323665],\n",
              "       [41.92030257],\n",
              "       [42.92095896],\n",
              "       [60.93277383],\n",
              "       [91.95312167],\n",
              "       [10.89995474],\n",
              "       [40.91964619],\n",
              "       [ 0.89339092],\n",
              "       [ 7.89798559],\n",
              "       [70.93933765],\n",
              "       [45.9229281 ],\n",
              "       [54.92883554],\n",
              "       [61.93343021],\n",
              "       [46.92358448]])"
            ]
          },
          "metadata": {},
          "execution_count": 12
        }
      ]
    },
    {
      "cell_type": "code",
      "source": [
        "from sklearn.metrics import mean_squared_error,r2_score\n",
        "mse=mean_squared_error(y_test,predicted)\n",
        "rmse=np.sqrt(mse)\n",
        "r2=r2_score(y_test,predicted)\n",
        "print(f'Mean Squared Error(MSE):{mse}')\n",
        "print(f'Root Mean Squared Error (RMSE):{rmse}')\n",
        "print(f'R_squared Score:{r2}')"
      ],
      "metadata": {
        "colab": {
          "base_uri": "https://localhost:8080/"
        },
        "id": "L_8T_9kWA9-h",
        "outputId": "c2b687e4-7ba2-45a0-c8dd-4ce3360aaefe"
      },
      "execution_count": 16,
      "outputs": [
        {
          "output_type": "stream",
          "name": "stdout",
          "text": [
            "Mean Squared Error(MSE):9.432922192039305\n",
            "Root Mean Squared Error (RMSE):3.071306268029827\n",
            "R_squared Score:0.9888014444327563\n"
          ]
        }
      ]
    },
    {
      "cell_type": "code",
      "source": [
        "plt.scatter(x_train,y_train,color='red',label='Train Data')\n",
        "plt.scatter(x_test,y_test,color='blue',label='Test Data')\n",
        "plt.plot(x_test,predicted,color='black',label='Regression Line')\n",
        "plt.xlabel('x')\n",
        "plt.ylabel('y')\n",
        "plt.title('Linear Regression')\n",
        "plt.show()"
      ],
      "metadata": {
        "colab": {
          "base_uri": "https://localhost:8080/",
          "height": 472
        },
        "id": "px5yidJ2CR1M",
        "outputId": "a35291e3-e752-4f98-94ca-bb0caa549a59"
      },
      "execution_count": 18,
      "outputs": [
        {
          "output_type": "display_data",
          "data": {
            "text/plain": [
              "<Figure size 640x480 with 1 Axes>"
            ],
            "image/png": "[encoded data removed]"
          },
          "metadata": {}
        }
      ]
    },
    {
      "cell_type": "code",
      "source": [],
      "metadata": {
        "id": "MKwsWe19DzDq"
      },
      "execution_count": null,
      "outputs": []
    }
  ]
}